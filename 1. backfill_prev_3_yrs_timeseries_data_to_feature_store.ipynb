{
  "cells": [
    {
      "cell_type": "code",
      "execution_count": null,
      "metadata": {
        "id": "pR-2-1jofRvz"
      },
      "outputs": [],
      "source": [
        "%reload_ext autoreload\n",
        "%autoreload 2"
      ]
    },
    {
      "cell_type": "code",
      "execution_count": null,
      "metadata": {
        "id": "aW7WLpgXfRv3"
      },
      "outputs": [],
      "source": [
        "import numpy as np\n",
        "import pandas as pd\n",
        "import hopsworks"
      ]
    },
    {
      "cell_type": "code",
      "execution_count": null,
      "metadata": {
        "id": "a-floutWfRv4",
        "outputId": "440af8da-4551-4be7-87ae-e869487a2fdb"
      },
      "outputs": [
        {
          "data": {
            "text/plain": [
              "True"
            ]
          },
          "execution_count": 3,
          "metadata": {},
          "output_type": "execute_result"
        }
      ],
      "source": [
        "import os\n",
        "from dotenv import load_dotenv, find_dotenv\n",
        "\n",
        "zzz = load_dotenv(find_dotenv())\n",
        "zzz"
      ]
    },
    {
      "cell_type": "code",
      "execution_count": null,
      "metadata": {
        "id": "R8XiVObkfRv5"
      },
      "outputs": [],
      "source": []
    },
    {
      "cell_type": "markdown",
      "metadata": {
        "id": "WOozAzPzXyAE"
      },
      "source": [
        "## DOWNLOAD & PROCESS 3 YRS DATA INTO TIMESERIES DATAFRAME FORMAT:"
      ]
    },
    {
      "cell_type": "code",
      "execution_count": null,
      "metadata": {
        "id": "XdNKx8zyfRv5"
      },
      "outputs": [],
      "source": [
        "from src.feature_pipeline import taxi_download_timeseries_month, taxi_download_timeseries_year"
      ]
    },
    {
      "cell_type": "code",
      "execution_count": null,
      "metadata": {
        "id": "c8lvdnhvfRv5",
        "outputId": "b93041c0-14bb-4a75-c5f9-79ab8dd7bd7b"
      },
      "outputs": [
        {
          "name": "stderr",
          "output_type": "stream",
          "text": [
            "100%|██████████| 12/12 [07:27<00:00, 37.25s/it]\n"
          ]
        },
        {
          "name": "stdout",
          "output_type": "stream",
          "text": [
            "exceptions encountered: []\n"
          ]
        },
        {
          "name": "stderr",
          "output_type": "stream",
          "text": [
            "100%|██████████| 12/12 [09:49<00:00, 49.10s/it]\n"
          ]
        },
        {
          "name": "stdout",
          "output_type": "stream",
          "text": [
            "exceptions encountered: []\n"
          ]
        },
        {
          "name": "stderr",
          "output_type": "stream",
          "text": [
            "100%|██████████| 12/12 [12:12<00:00, 61.05s/it]"
          ]
        },
        {
          "name": "stdout",
          "output_type": "stream",
          "text": [
            "exceptions encountered: []\n"
          ]
        },
        {
          "name": "stderr",
          "output_type": "stream",
          "text": [
            "\n"
          ]
        }
      ],
      "source": [
        "location = 90\n",
        "\n",
        "df_demand_2020 =  taxi_download_timeseries_year(2020, location, resample_rate = 'h')\n",
        "df_demand_2021 =  taxi_download_timeseries_year(2021, location, resample_rate = 'h')\n",
        "df_demand_2022 =  taxi_download_timeseries_year(2022, location, resample_rate = 'h')"
      ]
    },
    {
      "cell_type": "code",
      "execution_count": null,
      "metadata": {
        "id": "VrvwDOS4fRv5",
        "outputId": "150f750f-2feb-491b-87f4-aba38c1a4335"
      },
      "outputs": [
        {
          "data": {
            "text/html": [
              "<div>\n",
              "<style scoped>\n",
              "    .dataframe tbody tr th:only-of-type {\n",
              "        vertical-align: middle;\n",
              "    }\n",
              "\n",
              "    .dataframe tbody tr th {\n",
              "        vertical-align: top;\n",
              "    }\n",
              "\n",
              "    .dataframe thead th {\n",
              "        text-align: right;\n",
              "    }\n",
              "</style>\n",
              "<table border=\"1\" class=\"dataframe\">\n",
              "  <thead>\n",
              "    <tr style=\"text-align: right;\">\n",
              "      <th></th>\n",
              "      <th>date_time</th>\n",
              "      <th>demand</th>\n",
              "    </tr>\n",
              "  </thead>\n",
              "  <tbody>\n",
              "    <tr>\n",
              "      <th>0</th>\n",
              "      <td>2020-01-01 00:00:00</td>\n",
              "      <td>266</td>\n",
              "    </tr>\n",
              "    <tr>\n",
              "      <th>1</th>\n",
              "      <td>2020-01-01 01:00:00</td>\n",
              "      <td>231</td>\n",
              "    </tr>\n",
              "    <tr>\n",
              "      <th>2</th>\n",
              "      <td>2020-01-01 02:00:00</td>\n",
              "      <td>244</td>\n",
              "    </tr>\n",
              "    <tr>\n",
              "      <th>3</th>\n",
              "      <td>2020-01-01 03:00:00</td>\n",
              "      <td>259</td>\n",
              "    </tr>\n",
              "    <tr>\n",
              "      <th>4</th>\n",
              "      <td>2020-01-01 04:00:00</td>\n",
              "      <td>144</td>\n",
              "    </tr>\n",
              "    <tr>\n",
              "      <th>...</th>\n",
              "      <td>...</td>\n",
              "      <td>...</td>\n",
              "    </tr>\n",
              "    <tr>\n",
              "      <th>739</th>\n",
              "      <td>2022-12-31 19:00:00</td>\n",
              "      <td>99</td>\n",
              "    </tr>\n",
              "    <tr>\n",
              "      <th>740</th>\n",
              "      <td>2022-12-31 20:00:00</td>\n",
              "      <td>101</td>\n",
              "    </tr>\n",
              "    <tr>\n",
              "      <th>741</th>\n",
              "      <td>2022-12-31 21:00:00</td>\n",
              "      <td>103</td>\n",
              "    </tr>\n",
              "    <tr>\n",
              "      <th>742</th>\n",
              "      <td>2022-12-31 22:00:00</td>\n",
              "      <td>63</td>\n",
              "    </tr>\n",
              "    <tr>\n",
              "      <th>743</th>\n",
              "      <td>2022-12-31 23:00:00</td>\n",
              "      <td>57</td>\n",
              "    </tr>\n",
              "  </tbody>\n",
              "</table>\n",
              "<p>26304 rows × 2 columns</p>\n",
              "</div>"
            ],
            "text/plain": [
              "              date_time  demand\n",
              "0   2020-01-01 00:00:00     266\n",
              "1   2020-01-01 01:00:00     231\n",
              "2   2020-01-01 02:00:00     244\n",
              "3   2020-01-01 03:00:00     259\n",
              "4   2020-01-01 04:00:00     144\n",
              "..                  ...     ...\n",
              "739 2022-12-31 19:00:00      99\n",
              "740 2022-12-31 20:00:00     101\n",
              "741 2022-12-31 21:00:00     103\n",
              "742 2022-12-31 22:00:00      63\n",
              "743 2022-12-31 23:00:00      57\n",
              "\n",
              "[26304 rows x 2 columns]"
            ]
          },
          "execution_count": 8,
          "metadata": {},
          "output_type": "execute_result"
        }
      ],
      "source": [
        "combine = [df_demand_2020, df_demand_2021, df_demand_2022]\n",
        "df_demand_2020_2022 = pd.concat(combine)\n",
        "\n",
        "df_demand_2020_2022"
      ]
    },
    {
      "cell_type": "code",
      "execution_count": null,
      "metadata": {
        "id": "1rcwWH9TfRv6"
      },
      "outputs": [],
      "source": [
        "## DATA_PATH = './data/transformed/'\n",
        "## df_demand_2020_2022 = pd.to_parquet(DATA_PATH + 'df_demand_2020_2022_loc_90.parquet')"
      ]
    },
    {
      "cell_type": "code",
      "execution_count": null,
      "metadata": {
        "id": "zYHoCW7ZfRv6"
      },
      "outputs": [],
      "source": []
    },
    {
      "cell_type": "markdown",
      "metadata": {
        "id": "Ftc6tqR8YGgx"
      },
      "source": [
        "## BACKFILL(INSERT) PAST 3 YRS DATA TO FEATURE STORE:"
      ]
    },
    {
      "cell_type": "code",
      "execution_count": null,
      "metadata": {
        "id": "-Tf-xulvfRv6"
      },
      "outputs": [],
      "source": [
        "from src.feature_pipeline import taxi_insert_data_into_feature_store"
      ]
    },
    {
      "cell_type": "code",
      "execution_count": null,
      "metadata": {
        "colab": {
          "referenced_widgets": [
            "392c895cfe93458fbf70702481dbeb81"
          ]
        },
        "id": "QtTj_HgbfRv7",
        "outputId": "cfe19386-99a0-44d3-aa63-16e70eea3310"
      },
      "outputs": [
        {
          "name": "stdout",
          "output_type": "stream",
          "text": [
            "Connection closed.\n",
            "Connected. Call `.close()` to terminate connection gracefully.\n",
            "\n",
            "Logged in to project, explore it here https://c.app.hopsworks.ai:443/p/571540\n",
            "Connected. Call `.close()` to terminate connection gracefully.\n",
            "Feature Group created successfully, explore it at \n",
            "https://c.app.hopsworks.ai:443/p/571540/fs/567363/fg/661860\n"
          ]
        },
        {
          "data": {
            "application/vnd.jupyter.widget-view+json": {
              "model_id": "392c895cfe93458fbf70702481dbeb81",
              "version_major": 2,
              "version_minor": 0
            },
            "text/plain": [
              "Uploading Dataframe: 0.00% |          | Rows 0/26304 | Elapsed Time: 00:00 | Remaining Time: ?"
            ]
          },
          "metadata": {},
          "output_type": "display_data"
        },
        {
          "name": "stdout",
          "output_type": "stream",
          "text": [
            "Launching job: nyc_taxi_demand_timeseries_backfilled_2020_22_1_offline_fg_materialization\n",
            "Job started successfully, you can follow the progress at \n",
            "https://c.app.hopsworks.ai/p/571540/jobs/named/nyc_taxi_demand_timeseries_backfilled_2020_22_1_offline_fg_materialization/executions\n",
            "data successfully inserted in feature store\n"
          ]
        }
      ],
      "source": [
        "df_demand = df_demand_2020_2022\n",
        "feat_group_name = 'nyc_taxi_demand_timeseries_backfilled_2020_22'\n",
        "feat_group_ver = 1\n",
        "\n",
        "taxi_insert_data_into_feature_store(df_demand, feat_group_name, feat_group_ver)"
      ]
    },
    {
      "cell_type": "code",
      "execution_count": null,
      "metadata": {
        "id": "1epdOQ3ffRv7"
      },
      "outputs": [],
      "source": []
    }
  ],
  "metadata": {
    "colab": {
      "provenance": []
    },
    "kernelspec": {
      "display_name": ".nyc",
      "language": "python",
      "name": "python3"
    },
    "language_info": {
      "codemirror_mode": {
        "name": "ipython",
        "version": 3
      },
      "file_extension": ".py",
      "mimetype": "text/x-python",
      "name": "python",
      "nbconvert_exporter": "python",
      "pygments_lexer": "ipython3",
      "version": "3.10.11"
    }
  },
  "nbformat": 4,
  "nbformat_minor": 0
}
